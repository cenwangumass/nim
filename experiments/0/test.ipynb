{
 "cells": [
  {
   "cell_type": "code",
   "execution_count": 1,
   "id": "771ce97b",
   "metadata": {},
   "outputs": [],
   "source": [
    "import sys\n",
    "\n",
    "sys.path.append(\"../..\")"
   ]
  },
  {
   "cell_type": "code",
   "execution_count": 2,
   "id": "1f467ee0",
   "metadata": {},
   "outputs": [],
   "source": [
    "import numpy as np\n",
    "import matplotlib.pyplot as plt\n",
    "\n",
    "from nim.models import Net, generate"
   ]
  },
  {
   "cell_type": "code",
   "execution_count": 3,
   "id": "af2e49e3",
   "metadata": {},
   "outputs": [],
   "source": [
    "net = Net.load_from_checkpoint(\"model.ckpt\")\n",
    "decoder = net.decoder\n",
    "n, t = 1000, 10\n",
    "x = generate(decoder, size=(n, t))\n",
    "x = x.reshape(-1).exp().numpy()"
   ]
  },
  {
   "cell_type": "code",
   "execution_count": 4,
   "id": "be04c80f",
   "metadata": {},
   "outputs": [
    {
     "data": {
      "image/png": "[encoded data removed]",
      "text/plain": [
       "<Figure size 432x288 with 1 Axes>"
      ]
     },
     "metadata": {
      "needs_background": "light"
     },
     "output_type": "display_data"
    }
   ],
   "source": [
    "plt.hist(x, bins=np.arange(0, 20, 0.2));"
   ]
  },
  {
   "cell_type": "code",
   "execution_count": null,
   "id": "4979d248",
   "metadata": {},
   "outputs": [],
   "source": []
  }
 ],
 "metadata": {
  "kernelspec": {
   "display_name": "Python 3 (ipykernel)",
   "language": "python",
   "name": "python3"
  },
  "language_info": {
   "codemirror_mode": {
    "name": "ipython",
    "version": 3
   },
   "file_extension": ".py",
   "mimetype": "text/x-python",
   "name": "python",
   "nbconvert_exporter": "python",
   "pygments_lexer": "ipython3",
   "version": "3.9.6"
  }
 },
 "nbformat": 4,
 "nbformat_minor": 5
}
