{
 "cells": [
  {
   "cell_type": "code",
   "execution_count": 1,
   "id": "3e5f368d",
   "metadata": {},
   "outputs": [],
   "source": [
    "%load_ext autoreload\n",
    "%autoreload 2"
   ]
  },
  {
   "cell_type": "code",
   "execution_count": 2,
   "id": "9afebe44",
   "metadata": {},
   "outputs": [],
   "source": [
    "import sys\n",
    "\n",
    "sys.path.append(\"../..\")"
   ]
  },
  {
   "cell_type": "code",
   "execution_count": 3,
   "id": "cf15cfdc",
   "metadata": {},
   "outputs": [],
   "source": [
    "import numpy as np\n",
    "import matplotlib.pyplot as plt\n",
    "from statsmodels.tsa.api import VAR\n",
    "\n",
    "from nim.models import Net, generate\n",
    "from data import create_dataset"
   ]
  },
  {
   "cell_type": "code",
   "execution_count": 4,
   "id": "939fedce-bada-44d1-b5b4-fe5e8a2a8026",
   "metadata": {},
   "outputs": [
    {
     "data": {
      "text/plain": [
       "-1438.1012235695098"
      ]
     },
     "execution_count": 4,
     "metadata": {},
     "output_type": "execute_result"
    }
   ],
   "source": [
    "x = create_dataset(1, 500)\n",
    "x = x[0]\n",
    "\n",
    "model = VAR(x)\n",
    "result = model.fit(1)\n",
    "result.llf"
   ]
  },
  {
   "cell_type": "code",
   "execution_count": 5,
   "id": "348e7c54",
   "metadata": {},
   "outputs": [
    {
     "data": {
      "text/plain": [
       "-1435.2033422828026"
      ]
     },
     "execution_count": 5,
     "metadata": {},
     "output_type": "execute_result"
    }
   ],
   "source": [
    "net = Net.load_from_checkpoint(\"model.ckpt\")\n",
    "decoder = net.decoder\n",
    "n, t = 1, 500\n",
    "x = generate(decoder, size=(n, t))\n",
    "x = x.numpy()\n",
    "x = x[0]\n",
    "\n",
    "model = VAR(x)\n",
    "result = model.fit(1)\n",
    "result.llf"
   ]
  },
  {
   "cell_type": "code",
   "execution_count": 6,
   "id": "5e247c16-7430-40ec-90d3-f4f54b83982b",
   "metadata": {},
   "outputs": [
    {
     "data": {
      "text/plain": [
       "-1616.3422926474307"
      ]
     },
     "execution_count": 6,
     "metadata": {},
     "output_type": "execute_result"
    }
   ],
   "source": [
    "x = np.load(\"train.npy\")\n",
    "x = x.reshape(-1, 2)\n",
    "mean = x.mean(axis=0)\n",
    "cov = np.cov(x, rowvar=0)\n",
    "x = np.random.multivariate_normal(mean, cov, size=500)\n",
    "\n",
    "model = VAR(x)\n",
    "result = model.fit(1)\n",
    "result.llf"
   ]
  }
 ],
 "metadata": {
  "kernelspec": {
   "display_name": "Python 3 (ipykernel)",
   "language": "python",
   "name": "python3"
  },
  "language_info": {
   "codemirror_mode": {
    "name": "ipython",
    "version": 3
   },
   "file_extension": ".py",
   "mimetype": "text/x-python",
   "name": "python",
   "nbconvert_exporter": "python",
   "pygments_lexer": "ipython3",
   "version": "3.9.6"
  }
 },
 "nbformat": 4,
 "nbformat_minor": 5
}
