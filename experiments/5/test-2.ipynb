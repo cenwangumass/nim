{
 "cells": [
  {
   "cell_type": "code",
   "execution_count": 1,
   "id": "3d406e38-531b-4d1c-82b4-c1134d9736de",
   "metadata": {},
   "outputs": [],
   "source": [
    "import sys\n",
    "\n",
    "sys.path.append(\"../..\")"
   ]
  },
  {
   "cell_type": "code",
   "execution_count": 2,
   "id": "b2b96d18-15fa-4121-8460-3235cbd7bf5a",
   "metadata": {},
   "outputs": [],
   "source": [
    "from statsmodels.graphics.tsaplots import plot_acf, plot_pacf\n",
    "from statsmodels.tsa.statespace.sarimax import SARIMAX\n",
    "import matplotlib.pyplot as plt\n",
    "\n",
    "from nim.models import Net, generate\n",
    "from data import create_dataset"
   ]
  },
  {
   "cell_type": "code",
   "execution_count": 3,
   "id": "824f72ef-8b78-448a-a754-f154b51cf354",
   "metadata": {},
   "outputs": [],
   "source": [
    "x = create_dataset(1, 2000)[0]\n",
    "\n",
    "net = Net.load_from_checkpoint(\"model.ckpt\")\n",
    "decoder = net.decoder\n",
    "n, t = 1, 2000\n",
    "y = generate(decoder, size=(n, t))\n",
    "y = y.numpy().reshape(n, t)\n",
    "y = y.cumsum(axis=1)\n",
    "y = y[0]"
   ]
  },
  {
   "cell_type": "code",
   "execution_count": 4,
   "id": "c2b836f3-0ed7-472b-bcbc-f5e54e3e8226",
   "metadata": {},
   "outputs": [
    {
     "name": "stdout",
     "output_type": "stream",
     "text": [
      "RUNNING THE L-BFGS-B CODE\n",
      "\n",
      "           * * *\n",
      "\n",
      "Machine precision = 2.220D-16\n",
      " N =            3     M =           10\n",
      "\n",
      "At X0         0 variables are exactly at the bounds\n",
      "\n",
      "At iterate    0    f=  1.42235D+00    |proj g|=  8.01495D-02\n",
      "\n",
      "At iterate    5    f=  1.42040D+00    |proj g|=  9.43039D-06\n",
      "\n",
      "           * * *\n",
      "\n",
      "Tit   = total number of iterations\n",
      "Tnf   = total number of function evaluations\n",
      "Tnint = total number of segments explored during Cauchy searches\n",
      "Skip  = number of BFGS updates skipped\n",
      "Nact  = number of active bounds at final generalized Cauchy point\n",
      "Projg = norm of the final projected gradient\n",
      "F     = final function value\n",
      "\n",
      "           * * *\n",
      "\n",
      "   N    Tit     Tnf  Tnint  Skip  Nact     Projg        F\n",
      "    3      5      9      1     0     0   9.430D-06   1.420D+00\n",
      "  F =   1.4203971021773620     \n",
      "\n",
      "CONVERGENCE: NORM_OF_PROJECTED_GRADIENT_<=_PGTOL            \n"
     ]
    },
    {
     "name": "stderr",
     "output_type": "stream",
     "text": [
      " This problem is unconstrained.\n"
     ]
    },
    {
     "data": {
      "text/plain": [
       "-2840.794204354724"
      ]
     },
     "execution_count": 4,
     "metadata": {},
     "output_type": "execute_result"
    }
   ],
   "source": [
    "model = SARIMAX(x, order=(0, 1, 1), seasonal_order=(1, 0, 0, 12))\n",
    "result = model.fit()\n",
    "result.summary()\n",
    "result.llf"
   ]
  },
  {
   "cell_type": "code",
   "execution_count": 5,
   "id": "72c00754-6854-4ac5-9e43-435f7e5b03e3",
   "metadata": {},
   "outputs": [
    {
     "name": "stderr",
     "output_type": "stream",
     "text": [
      " This problem is unconstrained.\n"
     ]
    },
    {
     "name": "stdout",
     "output_type": "stream",
     "text": [
      "RUNNING THE L-BFGS-B CODE\n",
      "\n",
      "           * * *\n",
      "\n",
      "Machine precision = 2.220D-16\n",
      " N =            3     M =           10\n",
      "\n",
      "At X0         0 variables are exactly at the bounds\n",
      "\n",
      "At iterate    0    f=  1.43693D+00    |proj g|=  8.55973D-02\n",
      "\n",
      "At iterate    5    f=  1.43460D+00    |proj g|=  6.87348D-06\n",
      "\n",
      "           * * *\n",
      "\n",
      "Tit   = total number of iterations\n",
      "Tnf   = total number of function evaluations\n",
      "Tnint = total number of segments explored during Cauchy searches\n",
      "Skip  = number of BFGS updates skipped\n",
      "Nact  = number of active bounds at final generalized Cauchy point\n",
      "Projg = norm of the final projected gradient\n",
      "F     = final function value\n",
      "\n",
      "           * * *\n",
      "\n",
      "   N    Tit     Tnf  Tnint  Skip  Nact     Projg        F\n",
      "    3      5      8      1     0     0   6.873D-06   1.435D+00\n",
      "  F =   1.4345964970316611     \n",
      "\n",
      "CONVERGENCE: NORM_OF_PROJECTED_GRADIENT_<=_PGTOL            \n"
     ]
    },
    {
     "data": {
      "text/plain": [
       "-2869.192994063322"
      ]
     },
     "execution_count": 5,
     "metadata": {},
     "output_type": "execute_result"
    }
   ],
   "source": [
    "model = SARIMAX(y, order=(0, 1, 1), seasonal_order=(1, 0, 0, 12))\n",
    "result = model.fit()\n",
    "result.summary()\n",
    "result.llf"
   ]
  }
 ],
 "metadata": {
  "kernelspec": {
   "display_name": "Python 3 (ipykernel)",
   "language": "python",
   "name": "python3"
  },
  "language_info": {
   "codemirror_mode": {
    "name": "ipython",
    "version": 3
   },
   "file_extension": ".py",
   "mimetype": "text/x-python",
   "name": "python",
   "nbconvert_exporter": "python",
   "pygments_lexer": "ipython3",
   "version": "3.9.6"
  }
 },
 "nbformat": 4,
 "nbformat_minor": 5
}
