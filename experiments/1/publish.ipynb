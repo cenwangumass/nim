{
 "cells": [
  {
   "cell_type": "code",
   "execution_count": 1,
   "source": [
    "%load_ext autoreload\n",
    "%autoreload 2"
   ],
   "outputs": [],
   "metadata": {}
  },
  {
   "cell_type": "code",
   "execution_count": 2,
   "source": [
    "import sys\n",
    "\n",
    "sys.path.append(\"../..\")"
   ],
   "outputs": [],
   "metadata": {}
  },
  {
   "cell_type": "code",
   "execution_count": 3,
   "source": [
    "import numpy as np\n",
    "import matplotlib.pyplot as plt\n",
    "\n",
    "from nim.discrete import Net, generate\n",
    "from test import compute_statistics"
   ],
   "outputs": [],
   "metadata": {}
  },
  {
   "cell_type": "code",
   "execution_count": 4,
   "source": [
    "net = Net.load_from_checkpoint(\"model.ckpt\")\n",
    "decoder = net.decoder\n",
    "n, t = 10000, 50\n",
    "x = generate(decoder, size=(n, t))\n",
    "x = x.numpy()"
   ],
   "outputs": [],
   "metadata": {}
  },
  {
   "cell_type": "code",
   "execution_count": 6,
   "source": [
    "p = compute_statistics(x, 3)"
   ],
   "outputs": [],
   "metadata": {}
  },
  {
   "cell_type": "code",
   "execution_count": 29,
   "source": [
    "n1, n2, n3 = p.shape\n",
    "\n",
    "for i in range(n1):\n",
    "    for j in range(n2):\n",
    "        s = []\n",
    "        for k in range(n3):\n",
    "            s.append(f\"{p[i, j, k]:.3f}\")\n",
    "        s = \" & \".join(s)\n",
    "        print(f\"{i + 1}, {j + 1} & {s} \\\\\\\\\")"
   ],
   "outputs": [
    {
     "output_type": "stream",
     "name": "stdout",
     "text": [
      "1, 1 & 0.095 & 0.504 & 0.401 \\\\\n",
      "1, 2 & 0.325 & 0.323 & 0.352 \\\\\n",
      "1, 3 & 0.484 & 0.307 & 0.210 \\\\\n",
      "2, 1 & 0.163 & 0.729 & 0.108 \\\\\n",
      "2, 2 & 0.839 & 0.068 & 0.093 \\\\\n",
      "2, 3 & 0.071 & 0.839 & 0.090 \\\\\n",
      "3, 1 & 0.275 & 0.309 & 0.416 \\\\\n",
      "3, 2 & 0.386 & 0.387 & 0.227 \\\\\n",
      "3, 3 & 0.107 & 0.345 & 0.547 \\\\\n"
     ]
    }
   ],
   "metadata": {}
  },
  {
   "cell_type": "code",
   "execution_count": null,
   "source": [],
   "outputs": [],
   "metadata": {}
  }
 ],
 "metadata": {
  "kernelspec": {
   "display_name": "Python 3 (ipykernel)",
   "language": "python",
   "name": "python3"
  },
  "language_info": {
   "codemirror_mode": {
    "name": "ipython",
    "version": 3
   },
   "file_extension": ".py",
   "mimetype": "text/x-python",
   "name": "python",
   "nbconvert_exporter": "python",
   "pygments_lexer": "ipython3",
   "version": "3.9.6"
  }
 },
 "nbformat": 4,
 "nbformat_minor": 5
}