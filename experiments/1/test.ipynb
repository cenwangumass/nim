{
 "cells": [
  {
   "cell_type": "code",
   "execution_count": 1,
   "id": "8575c88a",
   "metadata": {},
   "outputs": [],
   "source": [
    "%load_ext autoreload\n",
    "%autoreload 2"
   ]
  },
  {
   "cell_type": "code",
   "execution_count": 2,
   "id": "531571ba",
   "metadata": {},
   "outputs": [],
   "source": [
    "import sys\n",
    "\n",
    "sys.path.append(\"../..\")"
   ]
  },
  {
   "cell_type": "code",
   "execution_count": 3,
   "id": "73fb5e67",
   "metadata": {},
   "outputs": [],
   "source": [
    "import numpy as np\n",
    "import matplotlib.pyplot as plt\n",
    "\n",
    "from nim.discrete import Net, generate\n",
    "from test import compute_statistics"
   ]
  },
  {
   "cell_type": "code",
   "execution_count": 4,
   "id": "408ce933",
   "metadata": {},
   "outputs": [],
   "source": [
    "net = Net.load_from_checkpoint(\"model.ckpt\")\n",
    "decoder = net.decoder\n",
    "n, t = 10000, 50\n",
    "x = generate(decoder, size=(n, t))\n",
    "x = x.numpy()"
   ]
  },
  {
   "cell_type": "code",
   "execution_count": 5,
   "id": "0c6b2492",
   "metadata": {},
   "outputs": [
    {
     "data": {
      "text/plain": [
       "array([[[0.09706572, 0.49909626, 0.40383802],\n",
       "        [0.32712093, 0.32018469, 0.35269438],\n",
       "        [0.48979788, 0.30219394, 0.20800819]],\n",
       "\n",
       "       [[0.16286799, 0.72952918, 0.10760283],\n",
       "        [0.83667106, 0.06794237, 0.09538657],\n",
       "        [0.07242303, 0.83572245, 0.09185452]],\n",
       "\n",
       "       [[0.28193264, 0.31098456, 0.4070828 ],\n",
       "        [0.38596769, 0.38596769, 0.22806462],\n",
       "        [0.1058256 , 0.34018553, 0.55398887]]])"
      ]
     },
     "execution_count": 5,
     "metadata": {},
     "output_type": "execute_result"
    }
   ],
   "source": [
    "compute_statistics(x, 3)"
   ]
  },
  {
   "cell_type": "markdown",
   "id": "a18db8f6",
   "metadata": {},
   "source": [
    "### Ground truth probability\n",
    "\n",
    "```\n",
    "[[[0.1       , 0.5       , 0.4       ],\n",
    "  [0.33333333, 0.33333333, 0.33333333],\n",
    "  [0.5       , 0.33333333, 0.16666667]],\n",
    "\n",
    " [[0.2       , 0.7       , 0.1       ],\n",
    "  [0.8       , 0.1       , 0.1       ],\n",
    "  [0.1       , 0.8       , 0.1       ]],\n",
    "\n",
    " [[0.3       , 0.3       , 0.4       ],\n",
    "  [0.4       , 0.4       , 0.2       ],\n",
    "  [0.1       , 0.33333333, 0.56666667]]]\n",
    "```"
   ]
  }
 ],
 "metadata": {
  "kernelspec": {
   "display_name": "Python 3 (ipykernel)",
   "language": "python",
   "name": "python3"
  },
  "language_info": {
   "codemirror_mode": {
    "name": "ipython",
    "version": 3
   },
   "file_extension": ".py",
   "mimetype": "text/x-python",
   "name": "python",
   "nbconvert_exporter": "python",
   "pygments_lexer": "ipython3",
   "version": "3.9.6"
  }
 },
 "nbformat": 4,
 "nbformat_minor": 5
}
