{
 "cells": [
  {
   "cell_type": "code",
   "execution_count": 8,
   "source": [
    "import numpy as np\n",
    "import matplotlib.pyplot as plt\n",
    "\n",
    "from utils import count_arrival"
   ],
   "outputs": [],
   "metadata": {}
  },
  {
   "cell_type": "code",
   "execution_count": 6,
   "source": [
    "data = np.load(\"train.npz\")\n",
    "x = data[\"x\"]\n",
    "n, t = x.shape\n",
    "x = np.log(x)\n",
    "x = np.nan_to_num(x, nan=0, posinf=0, neginf=0)\n",
    "print(x)\n",
    "x = np.hstack([np.zeros([n, 1]), x])\n",
    "x = np.diff(x, axis=1)"
   ],
   "outputs": [
    {
     "output_type": "stream",
     "name": "stdout",
     "text": [
      "[[-0.10238053 -3.55898265 -1.54045533 ...  0.          0.\n",
      "   0.        ]\n",
      " [-4.73541512 -0.12699418 -0.12736924 ...  0.          0.\n",
      "   0.        ]\n",
      " [-2.05974962 -1.94818995 -1.51248139 ...  0.          0.\n",
      "   0.        ]\n",
      " ...\n",
      " [-1.14504778 -0.0529729  -4.0232578  ...  0.          0.\n",
      "   0.        ]\n",
      " [-1.53414185 -0.08067528 -1.35440617 ...  0.          0.\n",
      "   0.        ]\n",
      " [ 0.05503836 -0.32646968 -1.3048065  ...  0.          0.\n",
      "   0.        ]]\n"
     ]
    },
    {
     "output_type": "stream",
     "name": "stderr",
     "text": [
      "/tmp/ipykernel_66431/4006309846.py:4: RuntimeWarning: divide by zero encountered in log\n",
      "  x = np.log(x)\n"
     ]
    }
   ],
   "metadata": {}
  },
  {
   "cell_type": "code",
   "execution_count": 15,
   "source": [
    "x = load(\"train.npz\").x\n",
    "n, t, _ = x.shape\n",
    "x = x.reshape(n, t)\n",
    "x = np.cumsum(x, axis=1)\n",
    "print(x)"
   ],
   "outputs": [
    {
     "output_type": "stream",
     "name": "stdout",
     "text": [
      "[[-1.0238053e-01 -3.5589826e+00 -1.5404553e+00 ...  5.9604645e-08\n",
      "   5.9604645e-08  5.9604645e-08]\n",
      " [-4.7354150e+00 -1.2699413e-01 -1.2736920e-01 ...  4.7683716e-07\n",
      "   4.7683716e-07  4.7683716e-07]\n",
      " [-2.0597496e+00 -1.9481900e+00 -1.5124815e+00 ... -2.9802322e-08\n",
      "  -2.9802322e-08 -2.9802322e-08]\n",
      " ...\n",
      " [-1.1450478e+00 -5.2972913e-02 -4.0232577e+00 ...  3.5762787e-07\n",
      "   3.5762787e-07  3.5762787e-07]\n",
      " [-1.5341419e+00 -8.0675364e-02 -1.3544062e+00 ... -7.1525574e-07\n",
      "  -7.1525574e-07 -7.1525574e-07]\n",
      " [ 5.5038355e-02 -3.2646969e-01 -1.3048065e+00 ... -5.3644180e-07\n",
      "  -5.3644180e-07 -5.3644180e-07]]\n"
     ]
    },
    {
     "output_type": "stream",
     "name": "stderr",
     "text": [
      "/home/derekwang/Desktop/Important/Research/nim-extensions/experiments/4-2/train.py:37: RuntimeWarning: divide by zero encountered in log\n",
      "  x = np.log(x)\n"
     ]
    }
   ],
   "metadata": {}
  },
  {
   "cell_type": "code",
   "execution_count": 16,
   "source": [
    "x = np.exp(x)"
   ],
   "outputs": [],
   "metadata": {}
  },
  {
   "cell_type": "code",
   "execution_count": 17,
   "source": [
    "t, rate = count_arrival(x, 0.2, max_=50)\n",
    "rate = rate.mean(axis=0)"
   ],
   "outputs": [],
   "metadata": {}
  },
  {
   "cell_type": "code",
   "execution_count": 18,
   "source": [
    "plt.plot(t, rate)"
   ],
   "outputs": [
    {
     "output_type": "execute_result",
     "data": {
      "text/plain": [
       "[<matplotlib.lines.Line2D at 0x7f6577fcc850>]"
      ]
     },
     "metadata": {},
     "execution_count": 18
    },
    {
     "output_type": "display_data",
     "data": {
      "image/png": "[encoded data removed]",
      "text/plain": [
       "<Figure size 432x288 with 1 Axes>"
      ]
     },
     "metadata": {
      "needs_background": "light"
     }
    }
   ],
   "metadata": {}
  },
  {
   "cell_type": "code",
   "execution_count": 10,
   "source": [
    "from train import load"
   ],
   "outputs": [],
   "metadata": {}
  },
  {
   "cell_type": "code",
   "execution_count": 67,
   "source": [],
   "outputs": [],
   "metadata": {}
  },
  {
   "cell_type": "code",
   "execution_count": 9,
   "source": [
    "import sys\n",
    "\n",
    "sys.path.append(\"../..\")"
   ],
   "outputs": [],
   "metadata": {}
  },
  {
   "cell_type": "code",
   "execution_count": null,
   "source": [],
   "outputs": [],
   "metadata": {}
  }
 ],
 "metadata": {
  "kernelspec": {
   "name": "python3",
   "display_name": "Python 3.9.6 64-bit ('nim-extensions': conda)"
  },
  "language_info": {
   "codemirror_mode": {
    "name": "ipython",
    "version": 3
   },
   "file_extension": ".py",
   "mimetype": "text/x-python",
   "name": "python",
   "nbconvert_exporter": "python",
   "pygments_lexer": "ipython3",
   "version": "3.9.6"
  },
  "interpreter": {
   "hash": "b83ae83800cd33cb737a991e966c0383f7a6c69312ae27736eabfd20c94842ec"
  }
 },
 "nbformat": 4,
 "nbformat_minor": 5
}